{
  "cells": [
    {
      "cell_type": "markdown",
      "metadata": {
        "id": "bDGlNOgjhCiz"
      },
      "source": [
        "# SETUP"
      ]
    },
    {
      "cell_type": "markdown",
      "metadata": {
        "id": "DJ4fPwc9hCi2"
      },
      "source": [
        "Install Libraries"
      ]
    },
    {
      "cell_type": "code",
      "execution_count": null,
      "metadata": {
        "colab": {
          "base_uri": "https://localhost:8080/"
        },
        "id": "K_mzJyXuhCi3",
        "outputId": "bbb4e40d-800d-41f4-81e1-610f40f7ba61"
      },
      "outputs": [
        {
          "name": "stdout",
          "output_type": "stream",
          "text": [
            "Looking in indexes: https://pypi.org/simple, https://pypi.ngc.nvidia.com\n",
            "Requirement already satisfied: frontend in /opt/conda/lib/python3.8/site-packages (0.0.3)\n",
            "Requirement already satisfied: gdown in /opt/conda/lib/python3.8/site-packages (4.6.6)\n",
            "Requirement already satisfied: pandas in /opt/conda/lib/python3.8/site-packages (1.4.3)\n",
            "Requirement already satisfied: tqdm in /opt/conda/lib/python3.8/site-packages (4.64.0)\n",
            "Requirement already satisfied: itsdangerous>=1.1.0 in /opt/conda/lib/python3.8/site-packages (from frontend) (2.1.2)\n",
            "Requirement already satisfied: starlette>=0.12.0 in /opt/conda/lib/python3.8/site-packages (from frontend) (0.26.1)\n",
            "Requirement already satisfied: aiofiles in /opt/conda/lib/python3.8/site-packages (from frontend) (23.1.0)\n",
            "Requirement already satisfied: uvicorn>=0.7.1 in /opt/conda/lib/python3.8/site-packages (from frontend) (0.21.1)\n",
            "Requirement already satisfied: six in /opt/conda/lib/python3.8/site-packages (from gdown) (1.16.0)\n",
            "Requirement already satisfied: requests[socks] in /opt/conda/lib/python3.8/site-packages (from gdown) (2.27.1)\n",
            "Requirement already satisfied: beautifulsoup4 in /opt/conda/lib/python3.8/site-packages (from gdown) (4.11.1)\n",
            "Requirement already satisfied: filelock in /opt/conda/lib/python3.8/site-packages (from gdown) (3.7.1)\n",
            "Requirement already satisfied: pytz>=2020.1 in /opt/conda/lib/python3.8/site-packages (from pandas) (2022.1)\n",
            "Requirement already satisfied: python-dateutil>=2.8.1 in /opt/conda/lib/python3.8/site-packages (from pandas) (2.8.2)\n",
            "Requirement already satisfied: numpy>=1.18.5 in /opt/conda/lib/python3.8/site-packages (from pandas) (1.22.4)\n",
            "Requirement already satisfied: typing-extensions>=3.10.0 in /opt/conda/lib/python3.8/site-packages (from starlette>=0.12.0->frontend) (4.3.0)\n",
            "Requirement already satisfied: anyio<5,>=3.4.0 in /opt/conda/lib/python3.8/site-packages (from starlette>=0.12.0->frontend) (3.6.2)\n",
            "Requirement already satisfied: idna>=2.8 in /opt/conda/lib/python3.8/site-packages (from anyio<5,>=3.4.0->starlette>=0.12.0->frontend) (3.3)\n",
            "Requirement already satisfied: sniffio>=1.1 in /opt/conda/lib/python3.8/site-packages (from anyio<5,>=3.4.0->starlette>=0.12.0->frontend) (1.3.0)\n",
            "Requirement already satisfied: click>=7.0 in /opt/conda/lib/python3.8/site-packages (from uvicorn>=0.7.1->frontend) (8.0.4)\n",
            "Requirement already satisfied: h11>=0.8 in /opt/conda/lib/python3.8/site-packages (from uvicorn>=0.7.1->frontend) (0.14.0)\n",
            "Requirement already satisfied: soupsieve>1.2 in /opt/conda/lib/python3.8/site-packages (from beautifulsoup4->gdown) (2.3.1)\n",
            "Requirement already satisfied: urllib3<1.27,>=1.21.1 in /opt/conda/lib/python3.8/site-packages (from requests[socks]->gdown) (1.26.9)\n",
            "Requirement already satisfied: certifi>=2017.4.17 in /opt/conda/lib/python3.8/site-packages (from requests[socks]->gdown) (2022.6.15)\n",
            "Requirement already satisfied: charset-normalizer~=2.0.0 in /opt/conda/lib/python3.8/site-packages (from requests[socks]->gdown) (2.0.12)\n",
            "Requirement already satisfied: PySocks!=1.5.7,>=1.5.6 in /opt/conda/lib/python3.8/site-packages (from requests[socks]->gdown) (1.7.1)\n",
            "\u001b[33mWARNING: Running pip as the 'root' user can result in broken permissions and conflicting behaviour with the system package manager. It is recommended to use a virtual environment instead: https://pip.pypa.io/warnings/venv\u001b[0m\n",
            "Looking in indexes: https://pypi.org/simple, https://pypi.ngc.nvidia.com\n",
            "Requirement already satisfied: tqdm in /opt/conda/lib/python3.8/site-packages (4.64.0)\n",
            "\u001b[33mWARNING: Running pip as the 'root' user can result in broken permissions and conflicting behaviour with the system package manager. It is recommended to use a virtual environment instead: https://pip.pypa.io/warnings/venv\u001b[0m\n"
          ]
        }
      ],
      "source": [
        "!pip install frontend gdown pandas tqdm\n",
        "!pip install tqdm\n",
        "# !pip install torchvision\n",
        "# !pip install torchaudio"
      ]
    },
    {
      "cell_type": "markdown",
      "metadata": {
        "id": "1KevazwYhCi7"
      },
      "source": [
        "Download Scripts for processing ADs and NTSB Reports"
      ]
    },
    {
      "cell_type": "code",
      "execution_count": null,
      "metadata": {
        "colab": {
          "base_uri": "https://localhost:8080/"
        },
        "id": "oh08zPF4hCi9",
        "outputId": "0fd3899a-68c0-43d5-f9cb-088dc58b4273"
      },
      "outputs": [
        {
          "name": "stdout",
          "output_type": "stream",
          "text": [
            "Looking in indexes: https://pypi.org/simple, https://pypi.ngc.nvidia.com\n",
            "Requirement already satisfied: PyPDF2 in /opt/conda/lib/python3.8/site-packages (3.0.1)\n",
            "Requirement already satisfied: typing_extensions>=3.10.0.0 in /opt/conda/lib/python3.8/site-packages (from PyPDF2) (4.3.0)\n",
            "\u001b[33mWARNING: Running pip as the 'root' user can result in broken permissions and conflicting behaviour with the system package manager. It is recommended to use a virtual environment instead: https://pip.pypa.io/warnings/venv\u001b[0m\n"
          ]
        }
      ],
      "source": [
        "!pip install PyPDF2"
      ]
    },
    {
      "cell_type": "markdown",
      "source": [
        "Reading PDFs"
      ],
      "metadata": {
        "id": "_DVf46LK-4iU"
      }
    },
    {
      "cell_type": "code",
      "execution_count": null,
      "metadata": {
        "id": "kKcpTQ9ShCi_",
        "outputId": "1e800ca3-86a4-40a9-b7b9-eff14833ef5e"
      },
      "outputs": [
        {
          "name": "stdout",
          "output_type": "stream",
          "text": [
            "mkdir: cannot create directory ‘new_reports’: File exists\n"
          ]
        }
      ],
      "source": [
        "!mkdir new_reports\n",
        "# new_reports directory should contain all the pdf files of ADs/reports directly"
      ]
    },
    {
      "cell_type": "code",
      "execution_count": null,
      "metadata": {
        "id": "nchns0NuhCjB"
      },
      "outputs": [],
      "source": [
        "from PyPDF2 import PdfReader\n",
        "\n",
        "import os\n",
        "\n",
        "passages=[]\n",
        "for x in os.listdir(\"new_reports\"):\n",
        "    if x.endswith(\".pdf\"):\n",
        "        reader = PdfReader(\"new_reports/\"+x)\n",
        "        for page_no in range(len(reader.pages)):\n",
        "            passages += [passage.replace(\"\\n\",\" \")+\". \"+ 'doc_id: '+x.replace(\".pdf\",\"\") for passage in reader.pages[page_no].extract_text().split(\".\\n\")]"
      ]
    },
    {
      "cell_type": "code",
      "execution_count": null,
      "metadata": {
        "id": "iyj-h8xshCjC"
      },
      "outputs": [],
      "source": [
        "import os\n",
        "import pandas as pd\n",
        "from tqdm import tqdm"
      ]
    },
    {
      "cell_type": "code",
      "execution_count": null,
      "metadata": {
        "colab": {
          "base_uri": "https://localhost:8080/"
        },
        "id": "jvB3JMCQhCjD",
        "outputId": "8eafeca1-35d4-40c3-8899-19aa96ef894b"
      },
      "outputs": [
        {
          "name": "stderr",
          "output_type": "stream",
          "text": [
            "100%|████████████████████████████████████████████████████████████████████████████████████████████████████████████████████████████████████████████████████████████████████████████████████████| 41/41 [00:00<00:00, 425659.56it/s]\n"
          ]
        }
      ],
      "source": [
        "# LIMIT_DOCS=1000\n",
        "doc_id=[]\n",
        "doc_content=[]\n",
        "pid=0\n",
        "\n",
        "for para in tqdm(passages):\n",
        "  doc_id.append(pid)\n",
        "  pid+=1\n",
        "  doc_content.append(para)\n"
      ]
    },
    {
      "cell_type": "markdown",
      "metadata": {
        "id": "XXcadRr1hCjG"
      },
      "source": [
        "Download and Index the passages to ColBERT"
      ]
    },
    {
      "cell_type": "code",
      "execution_count": null,
      "metadata": {
        "id": "E1h9Hq_ShCjG",
        "outputId": "52f8f6b1-8f37-45df-8d42-5a1d5c426ae9"
      },
      "outputs": [
        {
          "name": "stdout",
          "output_type": "stream",
          "text": [
            "Looking in indexes: https://pypi.org/simple, https://pypi.ngc.nvidia.com\n",
            "Requirement already satisfied: sentence_transformers in /opt/conda/lib/python3.8/site-packages (2.2.2)\n",
            "Requirement already satisfied: torchvision in /opt/conda/lib/python3.8/site-packages (from sentence_transformers) (0.14.0a0)\n",
            "Requirement already satisfied: numpy in /opt/conda/lib/python3.8/site-packages (from sentence_transformers) (1.22.4)\n",
            "Requirement already satisfied: transformers<5.0.0,>=4.6.0 in /opt/conda/lib/python3.8/site-packages (from sentence_transformers) (4.27.3)\n",
            "Requirement already satisfied: sentencepiece in /opt/conda/lib/python3.8/site-packages (from sentence_transformers) (0.1.97)\n",
            "Requirement already satisfied: scipy in /opt/conda/lib/python3.8/site-packages (from sentence_transformers) (1.6.3)\n",
            "Requirement already satisfied: torch>=1.6.0 in /opt/conda/lib/python3.8/site-packages (from sentence_transformers) (1.13.0a0+08820cb)\n",
            "Requirement already satisfied: scikit-learn in /opt/conda/lib/python3.8/site-packages (from sentence_transformers) (0.24.2)\n",
            "Requirement already satisfied: nltk in /opt/conda/lib/python3.8/site-packages (from sentence_transformers) (3.7)\n",
            "Requirement already satisfied: huggingface-hub>=0.4.0 in /opt/conda/lib/python3.8/site-packages (from sentence_transformers) (0.13.3)\n",
            "Requirement already satisfied: tqdm in /opt/conda/lib/python3.8/site-packages (from sentence_transformers) (4.64.0)\n",
            "Requirement already satisfied: pyyaml>=5.1 in /opt/conda/lib/python3.8/site-packages (from huggingface-hub>=0.4.0->sentence_transformers) (6.0)\n",
            "Requirement already satisfied: requests in /opt/conda/lib/python3.8/site-packages (from huggingface-hub>=0.4.0->sentence_transformers) (2.27.1)\n",
            "Requirement already satisfied: packaging>=20.9 in /opt/conda/lib/python3.8/site-packages (from huggingface-hub>=0.4.0->sentence_transformers) (21.3)\n",
            "Requirement already satisfied: filelock in /opt/conda/lib/python3.8/site-packages (from huggingface-hub>=0.4.0->sentence_transformers) (3.7.1)\n",
            "Requirement already satisfied: typing-extensions>=3.7.4.3 in /opt/conda/lib/python3.8/site-packages (from huggingface-hub>=0.4.0->sentence_transformers) (4.3.0)\n",
            "Requirement already satisfied: pyparsing!=3.0.5,>=2.0.2 in /opt/conda/lib/python3.8/site-packages (from packaging>=20.9->huggingface-hub>=0.4.0->sentence_transformers) (3.0.9)\n",
            "Requirement already satisfied: tokenizers!=0.11.3,<0.14,>=0.11.1 in /opt/conda/lib/python3.8/site-packages (from transformers<5.0.0,>=4.6.0->sentence_transformers) (0.13.2)\n",
            "Requirement already satisfied: regex!=2019.12.17 in /opt/conda/lib/python3.8/site-packages (from transformers<5.0.0,>=4.6.0->sentence_transformers) (2022.6.2)\n",
            "Requirement already satisfied: click in /opt/conda/lib/python3.8/site-packages (from nltk->sentence_transformers) (8.0.4)\n",
            "Requirement already satisfied: joblib in /opt/conda/lib/python3.8/site-packages (from nltk->sentence_transformers) (1.1.0)\n",
            "Requirement already satisfied: certifi>=2017.4.17 in /opt/conda/lib/python3.8/site-packages (from requests->huggingface-hub>=0.4.0->sentence_transformers) (2022.6.15)\n",
            "Requirement already satisfied: idna<4,>=2.5 in /opt/conda/lib/python3.8/site-packages (from requests->huggingface-hub>=0.4.0->sentence_transformers) (3.3)\n",
            "Requirement already satisfied: urllib3<1.27,>=1.21.1 in /opt/conda/lib/python3.8/site-packages (from requests->huggingface-hub>=0.4.0->sentence_transformers) (1.26.9)\n",
            "Requirement already satisfied: charset-normalizer~=2.0.0 in /opt/conda/lib/python3.8/site-packages (from requests->huggingface-hub>=0.4.0->sentence_transformers) (2.0.12)\n",
            "Requirement already satisfied: threadpoolctl>=2.0.0 in /opt/conda/lib/python3.8/site-packages (from scikit-learn->sentence_transformers) (3.1.0)\n",
            "Requirement already satisfied: pillow!=8.3.*,>=5.3.0 in /opt/conda/lib/python3.8/site-packages (from torchvision->sentence_transformers) (9.0.1)\n",
            "\u001b[33mWARNING: Running pip as the 'root' user can result in broken permissions and conflicting behaviour with the system package manager. It is recommended to use a virtual environment instead: https://pip.pypa.io/warnings/venv\u001b[0m\n"
          ]
        }
      ],
      "source": [
        "!pip install sentence_transformers"
      ]
    },
    {
      "cell_type": "code",
      "execution_count": null,
      "metadata": {
        "id": "Zhn0BtfT6jcB",
        "outputId": "8b118ea5-cfc2-4599-cab8-87231466d848"
      },
      "outputs": [
        {
          "name": "stderr",
          "output_type": "stream",
          "text": [
            "/opt/conda/lib/python3.8/site-packages/tqdm/auto.py:22: TqdmWarning: IProgress not found. Please update jupyter and ipywidgets. See https://ipywidgets.readthedocs.io/en/stable/user_install.html\n",
            "  from .autonotebook import tqdm as notebook_tqdm\n"
          ]
        }
      ],
      "source": [
        "import pandas as pd\n",
        "from sentence_transformers import SentenceTransformer, util"
      ]
    },
    {
      "cell_type": "code",
      "execution_count": null,
      "metadata": {
        "id": "Uam9jQV16jcC"
      },
      "outputs": [],
      "source": [
        "bi_model = SentenceTransformer('multi-qa-mpnet-base-dot-v1')\n"
      ]
    },
    {
      "cell_type": "code",
      "execution_count": null,
      "metadata": {
        "id": "2P-B8Pku6jcD"
      },
      "outputs": [],
      "source": [
        "doc_all_embs = bi_model.encode(passages)\n"
      ]
    },
    {
      "cell_type": "code",
      "execution_count": null,
      "metadata": {
        "id": "UyYoff6v6jcD"
      },
      "outputs": [],
      "source": [
        "from numpy import save\n",
        "# save to npy file\n",
        "save('passage_embeddings_multi-qa-mpnet-base-dot-v1.npy', doc_all_embs)\n"
      ]
    },
    {
      "cell_type": "markdown",
      "metadata": {
        "id": "j-nHLNAEhCjK"
      },
      "source": [
        "# INFERENCE"
      ]
    },
    {
      "cell_type": "markdown",
      "metadata": {
        "id": "Lt_x9C2fhCjL"
      },
      "source": [
        "Retrieve indexed documents"
      ]
    },
    {
      "cell_type": "code",
      "execution_count": null,
      "metadata": {
        "id": "TXFSIxoBhCjL"
      },
      "outputs": [],
      "source": [
        "from numpy import load\n",
        "doc_all_embs = load('passage_embeddings_multi-qa-mpnet-base-dot-v1.npy')"
      ]
    },
    {
      "cell_type": "markdown",
      "metadata": {
        "id": "S9Z1Fuo2hCjM"
      },
      "source": [
        "Load BERT (Fine-tuned on MRC) from Huggingface"
      ]
    },
    {
      "cell_type": "code",
      "execution_count": null,
      "metadata": {
        "id": "NjaEGHqyhCjM",
        "outputId": "5ea6e7dd-6552-4d19-f38e-2fd5549c05a2"
      },
      "outputs": [
        {
          "name": "stdout",
          "output_type": "stream",
          "text": [
            "Getting fine-tuned BERT on MRC...\n"
          ]
        }
      ],
      "source": [
        "from transformers import BertForQuestionAnswering, AutoTokenizer, pipeline\n",
        "modelname = 'deepset/bert-base-cased-squad2'\n",
        "qa_model = BertForQuestionAnswering.from_pretrained(modelname)\n",
        "qa_tokenizer = AutoTokenizer.from_pretrained(modelname)\n",
        "print(\"Getting fine-tuned BERT on MRC...\")\n",
        "qa_pipeline = pipeline('question-answering', model=qa_model, tokenizer=qa_tokenizer, device=0)"
      ]
    },
    {
      "cell_type": "markdown",
      "metadata": {
        "id": "r3KyqcakhCjN"
      },
      "source": [
        "Load BLOOM 1b7 from Huggingface (used when API doesn't work)"
      ]
    },
    {
      "cell_type": "code",
      "execution_count": null,
      "metadata": {
        "id": "IBDBHB-ohCjN",
        "outputId": "ea0cfdc5-4160-4c97-f31f-a4ae5b202e4a"
      },
      "outputs": [
        {
          "name": "stderr",
          "output_type": "stream",
          "text": [
            "Loading checkpoint shards: 100%|███████████████████████████████████████████████████████████████████████████████████████████████████████████████████████████████████████████████████████████████████| 2/2 [00:14<00:00,  7.01s/it]\n"
          ]
        }
      ],
      "source": [
        "import torch\n",
        "from transformers import AutoModelForCausalLM, AutoTokenizer, set_seed\n",
        "torch.set_default_tensor_type(torch.cuda.FloatTensor)\n",
        "def load_bloom(model_name=\"bigscience/bloom-3b\"):\n",
        "    model = AutoModelForCausalLM.from_pretrained(model_name)\n",
        "    tokenizer = AutoTokenizer.from_pretrained(model_name)\n",
        "    return tokenizer,model\n",
        "bloom_tokenizer,bloom_model=load_bloom(\"bigscience/bloom-7b1\")"
      ]
    },
    {
      "cell_type": "markdown",
      "metadata": {
        "id": "uFdhFwTEhCjO"
      },
      "source": [
        "### Set Question and BLOOM KEY( Key you got from huggingface)"
      ]
    },
    {
      "cell_type": "code",
      "execution_count": null,
      "metadata": {
        "id": "22qAexR9hCjO"
      },
      "outputs": [],
      "source": [
        "queries=[\"List the accident numbers of accidents happened in atlanta\"]\n",
        "query=queries[0]\n",
        "top_k_bi_encoder=15\n",
        "top_k_cross_encoder=3"
      ]
    },
    {
      "cell_type": "markdown",
      "metadata": {
        "id": "QB5ZFXHehCjO"
      },
      "source": [
        "#### Global Query"
      ]
    },
    {
      "cell_type": "code",
      "execution_count": null,
      "metadata": {
        "id": "M3qD_Z9a6jcJ"
      },
      "outputs": [],
      "source": [
        "def get_top_passages(queries, passages,bi_model, cross_model, top_k_bi_encoder=20,top_k_cross_encoder=6):\n",
        "\n",
        "    # bi encoder\n",
        "    query_relevent_embs = bi_model.encode(queries)\n",
        "    scores = util.dot_score(query_relevent_embs, doc_all_embs).cpu()\n",
        "    top_k_indices = torch.topk(scores, k=top_k_bi_encoder, dim=-1).indices\n",
        "    top_k_docs = [passages[i] for i in top_k_indices[0].tolist()]\n",
        "\n",
        "    # cross encoder\n",
        "    model_inputs = [[query, passage] for passage in top_k_docs]\n",
        "    scores = cross_model.predict(model_inputs)\n",
        "    top_index = scores.argsort()[-top_k_cross_encoder:][::-1]\n",
        "    top_k_passages=[]\n",
        "    for index in top_index:\n",
        "        top_k_passages.append(model_inputs[index][1])\n",
        "    return top_k_passages"
      ]
    },
    {
      "cell_type": "code",
      "execution_count": null,
      "metadata": {
        "id": "VZ1LStpRhCjP"
      },
      "outputs": [],
      "source": [
        "from sentence_transformers import CrossEncoder"
      ]
    },
    {
      "cell_type": "code",
      "execution_count": null,
      "metadata": {
        "colab": {
          "base_uri": "https://localhost:8080/",
          "height": 220
        },
        "id": "LxJ1CXNn6jcK",
        "outputId": "75af1aa0-2c26-44a6-9831-2d732226eb90"
      },
      "outputs": [
        {
          "output_type": "error",
          "ename": "NameError",
          "evalue": "ignored",
          "traceback": [
            "\u001b[0;31m---------------------------------------------------------------------------\u001b[0m",
            "\u001b[0;31mNameError\u001b[0m                                 Traceback (most recent call last)",
            "\u001b[0;32m<ipython-input-1-1731c5638104>\u001b[0m in \u001b[0;36m<cell line: 1>\u001b[0;34m()\u001b[0m\n\u001b[0;32m----> 1\u001b[0;31m \u001b[0mbi_model\u001b[0m \u001b[0;34m=\u001b[0m \u001b[0mSentenceTransformer\u001b[0m\u001b[0;34m(\u001b[0m\u001b[0;34m'multi-qa-mpnet-base-dot-v1'\u001b[0m\u001b[0;34m)\u001b[0m\u001b[0;34m\u001b[0m\u001b[0;34m\u001b[0m\u001b[0m\n\u001b[0m\u001b[1;32m      2\u001b[0m \u001b[0mcross_model\u001b[0m \u001b[0;34m=\u001b[0m \u001b[0mCrossEncoder\u001b[0m\u001b[0;34m(\u001b[0m\u001b[0;34m'cross-encoder/ms-marco-MiniLM-L-6-v2'\u001b[0m\u001b[0;34m)\u001b[0m\u001b[0;34m\u001b[0m\u001b[0;34m\u001b[0m\u001b[0m\n\u001b[1;32m      3\u001b[0m \u001b[0;31m#Concatenate the query and all passages and predict the scores for the pairs [query, passage]\u001b[0m\u001b[0;34m\u001b[0m\u001b[0;34m\u001b[0m\u001b[0m\n\u001b[1;32m      4\u001b[0m \u001b[0mtop_k_passages\u001b[0m\u001b[0;34m=\u001b[0m\u001b[0mget_top_passages\u001b[0m\u001b[0;34m(\u001b[0m\u001b[0mqueries\u001b[0m\u001b[0;34m,\u001b[0m \u001b[0mpassages\u001b[0m\u001b[0;34m,\u001b[0m\u001b[0mbi_model\u001b[0m\u001b[0;34m,\u001b[0m \u001b[0mcross_model\u001b[0m\u001b[0;34m)\u001b[0m\u001b[0;34m\u001b[0m\u001b[0;34m\u001b[0m\u001b[0m\n",
            "\u001b[0;31mNameError\u001b[0m: name 'SentenceTransformer' is not defined"
          ]
        }
      ],
      "source": [
        "bi_model = SentenceTransformer('multi-qa-mpnet-base-dot-v1')\n",
        "cross_model = CrossEncoder('cross-encoder/ms-marco-MiniLM-L-6-v2')\n",
        "#Concatenate the query and all passages and predict the scores for the pairs [query, passage]\n",
        "top_k_passages=get_top_passages(queries, passages,bi_model, cross_model)"
      ]
    },
    {
      "cell_type": "markdown",
      "metadata": {
        "id": "F_5f4d0dhCjQ"
      },
      "source": [
        "Query BLOOM"
      ]
    },
    {
      "cell_type": "code",
      "execution_count": null,
      "metadata": {
        "id": "gC300FqMhCjQ",
        "outputId": "38b7c8e2-44a4-400b-a113-0d35fe6ddcf2"
      },
      "outputs": [
        {
          "name": "stdout",
          "output_type": "stream",
          "text": [
            "List the accident numbers of accidents happened in atlanta : ERA22LA121, ERA22LA175, ERA21FA195, ERA22FA010, ERA22FA010, ERA22FA010, ERA22FA010, ERA22FA010, ERA22FA010, ERA22FA010, ERA22FA010, ERA22FA010, ERA22FA010, ERA22FA010, ERA22FA010, ERA22FA010, ERA22FA\n"
          ]
        }
      ],
      "source": [
        "# print(top_k_passages[0])\n",
        "\n",
        "context_first= 'Probable Cause and Findings,The National Transportation Safety Board determines the probable cause(s) of this accident to be,doc_id:75279,Location:La Veta, Colorado,Date & Time:January 17, 2010, 15:06 Local ,Aircraft:Mooney M20R'\n",
        "context_second=' '.join(top_k_passages)\n",
        "prompt_context=context_first+\" \"+context_second\n",
        "question_first='Q: Who determined the cause of the accident?\\nA: The National Transportation Safety Board'\n",
        "question_second='Q: '+query\n",
        "prompt_question=question_first+\"\\n\"+question_second\n",
        "prompt=prompt_context+\"\\n\"+prompt_question+\"\\n A:\"\n",
        "\n",
        "# try:\n",
        "set_seed(424242)\n",
        "input_ids = bloom_tokenizer(prompt, return_tensors=\"pt\").to(0)\n",
        "sample = bloom_model.generate(**input_ids, max_new_tokens = 100, top_k=1, temperature=0.7)\n",
        "bloom_ans=bloom_tokenizer.decode(sample[0], truncate_before_pattern=[r\"\\n\\n^#\", \"^'''\", \"\\n\\n\\n\"])\n",
        "try:\n",
        "    bloom_ans=bloom_ans.split(query)[1].split(\"Q:\")[0][3:]\n",
        "except:\n",
        "    bloom_ans=bloom_ans.split(query)[1][3:]\n",
        "print(query,bloom_ans)\n"
      ]
    },
    {
      "cell_type": "markdown",
      "metadata": {
        "id": "ofV-SIa7hCjR"
      },
      "source": [
        "Query BERT"
      ]
    },
    {
      "cell_type": "code",
      "execution_count": null,
      "metadata": {
        "id": "NQ2nwkFEhCjR",
        "outputId": "4ae24533-fd04-4a9c-dbb9-407edb8464d5"
      },
      "outputs": [
        {
          "name": "stdout",
          "output_type": "stream",
          "text": [
            "Answer from passage:  1\n",
            "Answer:  104636\n",
            "Passage:  Page 2 of 2 ERA22LA121 This is preliminary information, subject to change, and may contain errors. Any errors in this report will be corrected when  the final report has been completed.Meteorological Information and Flight Plan Conditions at Accident Site: VMC Condition of Light: Day Observation Facility, Elevation: CGC,9 ft msl Observation Time: 12:35 Local Distance from Accident Site: 0 Nautical Miles Temperature/Dew Point: 20°C /4°C Lowest Cloud Condition: Clear Wind Speed/Gusts, Direction: 7 knots / 14 knots, 130° Lowest Ceiling: None Visibility: 10 miles Altimeter Setting: 30.23 inches Hg Type of Flight Plan Filed: None Departure Point: Atlanta, GA (ATL) Destination: Crystal River, FL  Wreckage and Impact Information  Crew Injuries: 1 None Aircraft Damage: Substantial Passenger Injuries: N/A Aircraft Fire: None Ground Injuries: N/A Aircraft Explosion: None Total Injuries: 1 None Latitude,  Longitude:28.867611,-82.574111 (est) Administrative Information Investigator In Charge (IIC): Brazy, Douglass Additional Participating Persons: Ismael Reyes; FAA FSDO; Tampa, FL Note: The NTSB did not travel to the scene of this accident.. \n",
            "Doc Name:   104636\n",
            "Answer from passage:  2\n",
            "Answer:  104636\n",
            "Passage:  Page 1 of 2 ERA22LA121 This is preliminary information, subject to change, and may contain errors. Any errors in this report will be corrected when  the final report has been completed.National Transportation Safety Board Aviation Accident Preliminary Report Location: Crystal River, FL Accident Number: ERA22LA121 Date & Time: February 1, 2022, 12:30 Local Registration: N35CM Aircraft: PIPER AIRCRAFT INC PA 46-350P Injuries: 1 None Flight Conducted  Under:Part 91: General aviation - Personal On February 1, 2022, at 1230 eastern standard time, a Piper PA46-350P, N35CM, was substantially  damaged when it was involved in an accident in Crystal River, Florida. The pilot was not injured. The  airplane was operated as a Title 14 Code of Federal Regulations (CFR) Part 91 personal flight.  The pilot reported that during landing on the turf runway 18 at the Crystal River Airport (CGC), Crystal  River, Florida, the airplane touched down near the beginning of the runway at a speed of about 70 knots.  He applied normal braking, and the airplane drifted slightly right of centerline. He then applied “less  right brake and more left rudder” and the airplane corrected back toward the runway centerline. After  the speed reduced to “below 20 knots” the nosewheel suddenly collapsed.  Examination of the accident site and airplane by a Federal Aviation Administration revealed that the  airplane continued about 20 ft after the nose gear collapsed. The lower engine mount, which the nose  gear trunnion was attached, was substantially damaged. Airport personnel found a fractured bolt and  fractured trunnion fitting on the runway. The bolt and fitting remnants were forwarded to the NTSB  materials laboratory for further examination.  The 1235 weather conditions reported at CGC included wind from 130° at 7 knots gusting to 14 knots. \n",
            "Doc Name:   104636\n",
            "Answer from passage:  3\n",
            "Answer:  104874\n",
            "Passage:  The cockpit voice recorder (CVR) was retained and forwarded to the NTSB Recorders Laboratory in  Washington, DC. The wreckage was recovered for further examination.  Aircraft and Owner/Operator Information  Aircraft Make: LEARJET INC Registration: N877W Model/Series: 45 Aircraft Category: Airplane Amateur Built: Operator: Operating Certificate(s)  Held:None Operator Designator Code: Meteorological Information and Flight Plan Conditions at Accident Site: VMC Condition of Light: Day Observation Facility, Elevation: MMU,187 ft msl Observation Time: 11:25 Local Distance from Accident Site: 0 Nautical Miles Temperature/Dew Point: 7°C /-5°C Lowest Cloud Condition: Few / 25000 ft AGL Wind Speed/Gusts, Direction: 6 knots / 14 knots, 320° Lowest Ceiling: None Visibility: 10 miles Altimeter Setting: 30.11 inches Hg Type of Flight Plan Filed: IFR Departure Point: Atlanta, GA (FTY) Destination: Morristown, NJ . \n",
            "Doc Name:   104874\n",
            "Answer from passage:  4\n",
            "Answer:  ERA21FA195\n",
            "Passage:  Page 1 of 3 ERA21FA195 This is preliminary information, subject to change, and may contain errors. Any errors in this report will be corrected when  the final report has been completed.National Transportation Safety Board Aviation Accident Preliminary Report Location: Eden, NC Accident Number: ERA21FA195 Date & Time: April 28, 2021, 13:24 Local Registration: N53DE Aircraft:BELL HELICOPTER TEXTRON  CANADA 429Injuries: 1 Fatal, 2 Serious Flight Conducted  Under:Part 91: General aviation - Aerial observation On April 28, 2021, about 1324 eastern standard time, a Bell 429 helicopter, N53DE, was destroyed  when it was involved in an accident near Eden, North Carolina. The commercial pilot was fatally  injured, and two passengers were seriously injured. The helicopter was operated as a Title 14 Code of  Federal Regulations Part 91 powerline patrol. \n",
            "Doc Name:   102994\n",
            "Answer from passage:  5\n",
            "Answer:  1356\n",
            "Passage:  Page 1 of 3 ERA22FA010 This is preliminary information, subject to change, and may contain errors. Any errors in this report will be corrected when  the final report has been completed.National Transportation Safety Board Aviation Accident Preliminary Report Location: Cornwall, NY Accident Number: ERA22FA010 Date & Time: October 10, 2021, 13:57 Local Registration: N637HP Aircraft:ROBINSON HELICOPTER COMPANY  R44 IIInjuries: 1 Fatal Flight Conducted  Under:Part 91: General aviation - Personal On October 10, 2021, at 1357 eastern daylight time, a Robinson R44 II, N637HP, was destroyed when it  was involved in an accident in Cornwall, New York. The pilot was fatally injured. The helicopter was  operated as a Title 14 Code of Federal Regulations Part 91 personal flight.  According to fueling records, the pilot purchased 24.6 gallons of fuel prior to his departure from Floyd  Bennet Memorial Airport (GFL), Glenn Falls, New York, about 1247. The destination was MacArthur  Airport (ISP), Ronkonkoma, New York, where the helicopter was based.   According to Federal Aviation Administration (FAA) preliminary tracking data, at 1356, as the  helicopter was flying southbound over the center of the Hudson River at an altitude of about 1,700 ft  mean sea level (msl) it began a climbing right turn toward the west bank of the river. As it reached the  shoreline, it turned right again and flew toward the northwest for about 1/4 mile, before it descended and  turned left about 90°. The recorded data ended about 120 yards north of the accident site. The entire  flight was about 70 minutes and the accident site was located about 120 nautical miles south of GFL.  A witness located on a hiking trail about 0.1 mile southeast of the accident site reported hearing the  helicopter’s engine “falter and die.” One to two seconds later, he heard a swishing sound, which he  attributed to the helicopter “spinning” or being “out of control,” however he could not see the helicopter  due to the tree canopy. Shortly thereafter, he heard a series of loud noises that he described as  “backfires, at machine gun speed” for about 2 seconds, which he surmised was “the engine catching and  the rotors slapping,” and then the sounds stopped. He reported that the visibility was “clear,” the clouds  were higher than the mountain peaks, there was no fog over the river, and he could see the river clearly  from his location on the hiking trail.  A second witness located about 1/2-mile northwest of the accident site reported hearing a “loud noise”  that he believed was the helicopter’s engine. When he turned toward the noise, he observed the  helicopter in a nose down attitude of nearly 90°, travelling at a “high speed…straight down.” The  witness lost sight of the helicopter as it descended below a tree line; shortly thereafter he “heard it  crash.”  . \n",
            "Doc Name:   104078\n",
            "Answer from passage:  6\n",
            "Answer:  ERA22LA175\n",
            "Passage:  Page 1 of 3 ERA22LA175 This is preliminary information, subject to change, and may contain errors. Any errors in this report will be corrected when  the final report has been completed.National Transportation Safety Board Aviation Accident Preliminary Report Location: Morristown, NJ Accident Number: ERA22LA175 Date & Time: April 2, 2022, 11:19 Local Registration: N877W Aircraft: LEARJET INC 45 Injuries: 4 Minor Flight Conducted  Under:Part 91: General aviation - Personal On April 2, 2022, at 1119 eastern daylight time, a Learjet Inc 45, N877W, was substantially damaged  when it was involved in an accident at Morristown Municipal Airport (MMU), Morristown, New Jersey.  The airline transport pilots and the two passengers sustained minor injuries. The airplane was operated  as a Title 14 Code of Federal Regulations Part 91 personal flight. \n",
            "Doc Name:   104874\n"
          ]
        }
      ],
      "source": [
        "index=1\n",
        "for rel_passage in top_k_passages:\n",
        "        try:\n",
        "            ans_span = qa_pipeline({\n",
        "                'question': query,\n",
        "                'context': rel_passage\n",
        "            })\n",
        "            print(\"Answer from passage: \",index)\n",
        "            print(\"Answer: \",ans_span['answer'])\n",
        "            print(\"Passage: \",rel_passage.split(\"doc_id\")[0])\n",
        "            print(\"Doc Name: \",rel_passage.split(\"doc_id:\")[1].split(\",\")[0])\n",
        "            index+=1\n",
        "        except:\n",
        "            pass"
      ]
    },
    {
      "cell_type": "markdown",
      "metadata": {
        "id": "tTa7qnCchCjS"
      },
      "source": [
        "#### Doc Specific Query"
      ]
    },
    {
      "cell_type": "code",
      "execution_count": null,
      "metadata": {
        "id": "7rJTstqGhCjT"
      },
      "outputs": [],
      "source": [
        "doc_id=\"104874\" # Enter trhe DOC ID"
      ]
    },
    {
      "cell_type": "markdown",
      "metadata": {
        "id": "2GG3P9VvhCjT"
      },
      "source": [
        "Query BLOOM"
      ]
    },
    {
      "cell_type": "code",
      "execution_count": null,
      "metadata": {
        "id": "pNc5sm7hhCjU",
        "outputId": "315f74dc-a561-4494-edd0-e3ae2219f75f"
      },
      "outputs": [
        {
          "name": "stdout",
          "output_type": "stream",
          "text": [
            "List the accident numbers of accidents happened in atlanta : ERA22LA175, ERA22LA176, ERA22LA177, ERA22LA178, ERA22LA179, ERA22LA180, ERA22LA181, ERA22LA182, ERA22LA183, ERA22LA184, ERA22LA185, ERA22LA186, ERA22LA187, ERA22LA188, ERA22LA189, ERA22LA190, ERA22LA\n"
          ]
        }
      ],
      "source": [
        "# question = \"cause of accident\" # You can update your question here\n",
        "if query[-1]=='.' or query[-1]=='?':\n",
        "    question=query+\" doc_id: \"+doc_id\n",
        "else:\n",
        "    question=\" doc_id: \"+doc_id+\", \"+query\n",
        "\n",
        "doc_relevant_passages=[passage for passage in top_k_passages if doc_id in passage]\n",
        "context_first= 'Probable Cause and Findings,The National Transportation Safety Board determines the probable cause(s) of this accident to be:A fuel leak and subsequent fire due to a mechanical defect.,Accident Number:,doc_id:,Location:, Colorado,Date & Time: ,Aircraft:'\n",
        "context_second=' '.join(doc_relevant_passages)\n",
        "prompt_context=context_first+\" \"+context_second\n",
        "question_first='Q: What is probable causes of fire?\\nA: A fuel leak and subsequent fire due to a mechanical defect\\nQ: Who determined the cause of the accident?\\nA: The National Transportation Safety Board'\n",
        "question_second='Q: '+question\n",
        "prompt_question=question_first+\"\\n\"+question_second\n",
        "prompt=prompt_context+\"\\n\"+prompt_question+\"\\n A:\"\n",
        "\n",
        "\n",
        "set_seed(424242)\n",
        "input_ids = bloom_tokenizer(prompt, return_tensors=\"pt\").to(0)\n",
        "sample = bloom_model.generate(**input_ids, max_new_tokens = 100, top_k=1, temperature=0.7)\n",
        "bloom_ans=bloom_tokenizer.decode(sample[0], truncate_before_pattern=[r\"\\n\\n^#\", \"^'''\", \"\\n\\n\\n\"])\n",
        "try:\n",
        "    bloom_ans=bloom_ans.split(query)[1].split(\"Q:\")[0][3:]\n",
        "except:\n",
        "    bloom_ans=bloom_ans.split(query)[1][3:]\n",
        "print(query,bloom_ans)"
      ]
    },
    {
      "cell_type": "code",
      "execution_count": null,
      "metadata": {
        "id": "M75pIw5XhCjV",
        "outputId": "06a73137-05f0-4f95-da2e-dc551e87363e"
      },
      "outputs": [
        {
          "name": "stdout",
          "output_type": "stream",
          "text": [
            "Answer from passage:  1\n",
            "Answer:  Morristown, NJ\n",
            "Passage:  The cockpit voice recorder (CVR) was retained and forwarded to the NTSB Recorders Laboratory in  Washington, DC. The wreckage was recovered for further examination.  Aircraft and Owner/Operator Information  Aircraft Make: LEARJET INC Registration: N877W Model/Series: 45 Aircraft Category: Airplane Amateur Built: Operator: Operating Certificate(s)  Held:None Operator Designator Code: Meteorological Information and Flight Plan Conditions at Accident Site: VMC Condition of Light: Day Observation Facility, Elevation: MMU,187 ft msl Observation Time: 11:25 Local Distance from Accident Site: 0 Nautical Miles Temperature/Dew Point: 7°C /-5°C Lowest Cloud Condition: Few / 25000 ft AGL Wind Speed/Gusts, Direction: 6 knots / 14 knots, 320° Lowest Ceiling: None Visibility: 10 miles Altimeter Setting: 30.11 inches Hg Type of Flight Plan Filed: IFR Departure Point: Atlanta, GA (FTY) Destination: Morristown, NJ . \n",
            "Doc Name:   104874\n",
            "Answer from passage:  2\n",
            "Answer:  Title 14 Code of Federal Regulations Part 91 personal flight\n",
            "Passage:  Page 1 of 3 ERA22LA175 This is preliminary information, subject to change, and may contain errors. Any errors in this report will be corrected when  the final report has been completed.National Transportation Safety Board Aviation Accident Preliminary Report Location: Morristown, NJ Accident Number: ERA22LA175 Date & Time: April 2, 2022, 11:19 Local Registration: N877W Aircraft: LEARJET INC 45 Injuries: 4 Minor Flight Conducted  Under:Part 91: General aviation - Personal On April 2, 2022, at 1119 eastern daylight time, a Learjet Inc 45, N877W, was substantially damaged  when it was involved in an accident at Morristown Municipal Airport (MMU), Morristown, New Jersey.  The airline transport pilots and the two passengers sustained minor injuries. The airplane was operated  as a Title 14 Code of Federal Regulations Part 91 personal flight. \n",
            "Doc Name:   104874\n"
          ]
        }
      ],
      "source": [
        "index=1\n",
        "for rel_passage in doc_relevant_passages:\n",
        "    try:\n",
        "        ans_span = qa_pipeline({\n",
        "            'question': question,\n",
        "            'context': rel_passage\n",
        "        })\n",
        "        print(\"Answer from passage: \",index)\n",
        "        print(\"Answer: \",ans_span['answer'])\n",
        "        print(\"Passage: \",rel_passage.split(\"doc_id\")[0])\n",
        "        print(\"Doc Name: \",rel_passage.split(\"doc_id:\")[1].split(\",\")[0])\n",
        "        index+=1\n",
        "    except:\n",
        "        pass"
      ]
    },
    {
      "cell_type": "code",
      "execution_count": null,
      "metadata": {
        "id": "NUi67pZVhCjW"
      },
      "outputs": [],
      "source": []
    }
  ],
  "metadata": {
    "accelerator": "GPU",
    "colab": {
      "provenance": []
    },
    "gpuClass": "standard",
    "kernelspec": {
      "display_name": "Python 3 (ipykernel)",
      "language": "python",
      "name": "python3"
    },
    "language_info": {
      "codemirror_mode": {
        "name": "ipython",
        "version": 3
      },
      "file_extension": ".py",
      "mimetype": "text/x-python",
      "name": "python",
      "nbconvert_exporter": "python",
      "pygments_lexer": "ipython3",
      "version": "3.8.13"
    },
    "vscode": {
      "interpreter": {
        "hash": "e13c912695f7e42cdb1332c6fa0aaa9468bf7437c24237d28becf82d403af406"
      }
    }
  },
  "nbformat": 4,
  "nbformat_minor": 0
}