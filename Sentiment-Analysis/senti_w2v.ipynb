{
 "cells": [
  {
   "cell_type": "code",
   "execution_count": 2,
   "metadata": {},
   "outputs": [],
   "source": [
    "import re    # for regular expressions \n",
    "import nltk  # for text manipulation \n",
    "import string \n",
    "import warnings \n",
    "import numpy as np \n",
    "import pandas as pd \n",
    "import seaborn as sns \n",
    "import matplotlib.pyplot as plt  \n",
    "\n",
    "pd.set_option(\"display.max_colwidth\", 200) \n",
    "warnings.filterwarnings(\"ignore\", category=DeprecationWarning) \n",
    "\n",
    "%matplotlib inline"
   ]
  },
  {
   "cell_type": "code",
   "execution_count": 5,
   "metadata": {},
   "outputs": [],
   "source": [
    "# Let’s read train and test datasets.\n",
    "\n",
    "train  = pd.read_csv('data/train_E6oV3lV.csv') \n",
    "test = pd.read_csv('data/test_tweets_anuFYb8.csv')"
   ]
  },
  {
   "cell_type": "code",
   "execution_count": 6,
   "metadata": {},
   "outputs": [
    {
     "data": {
      "text/html": [
       "<div>\n",
       "<style scoped>\n",
       "    .dataframe tbody tr th:only-of-type {\n",
       "        vertical-align: middle;\n",
       "    }\n",
       "\n",
       "    .dataframe tbody tr th {\n",
       "        vertical-align: top;\n",
       "    }\n",
       "\n",
       "    .dataframe thead th {\n",
       "        text-align: right;\n",
       "    }\n",
       "</style>\n",
       "<table border=\"1\" class=\"dataframe\">\n",
       "  <thead>\n",
       "    <tr style=\"text-align: right;\">\n",
       "      <th></th>\n",
       "      <th>id</th>\n",
       "      <th>label</th>\n",
       "      <th>tweet</th>\n",
       "    </tr>\n",
       "  </thead>\n",
       "  <tbody>\n",
       "    <tr>\n",
       "      <th>0</th>\n",
       "      <td>1</td>\n",
       "      <td>0</td>\n",
       "      <td>@user when a father is dysfunctional and is so selfish he drags his kids into his dysfunction.   #run</td>\n",
       "    </tr>\n",
       "    <tr>\n",
       "      <th>1</th>\n",
       "      <td>2</td>\n",
       "      <td>0</td>\n",
       "      <td>@user @user thanks for #lyft credit i can't use cause they don't offer wheelchair vans in pdx.    #disapointed #getthanked</td>\n",
       "    </tr>\n",
       "    <tr>\n",
       "      <th>2</th>\n",
       "      <td>3</td>\n",
       "      <td>0</td>\n",
       "      <td>bihday your majesty</td>\n",
       "    </tr>\n",
       "    <tr>\n",
       "      <th>3</th>\n",
       "      <td>4</td>\n",
       "      <td>0</td>\n",
       "      <td>#model   i love u take with u all the time in urð±!!! ððððð¦ð¦ð¦</td>\n",
       "    </tr>\n",
       "    <tr>\n",
       "      <th>4</th>\n",
       "      <td>5</td>\n",
       "      <td>0</td>\n",
       "      <td>factsguide: society now    #motivation</td>\n",
       "    </tr>\n",
       "    <tr>\n",
       "      <th>5</th>\n",
       "      <td>6</td>\n",
       "      <td>0</td>\n",
       "      <td>[2/2] huge fan fare and big talking before they leave. chaos and pay disputes when they get there. #allshowandnogo</td>\n",
       "    </tr>\n",
       "    <tr>\n",
       "      <th>6</th>\n",
       "      <td>7</td>\n",
       "      <td>0</td>\n",
       "      <td>@user camping tomorrow @user @user @user @user @user @user @user dannyâ¦</td>\n",
       "    </tr>\n",
       "    <tr>\n",
       "      <th>7</th>\n",
       "      <td>8</td>\n",
       "      <td>0</td>\n",
       "      <td>the next school year is the year for exams.ð¯ can't think about that ð­ #school #exams   #hate #imagine #actorslife #revolutionschool #girl</td>\n",
       "    </tr>\n",
       "    <tr>\n",
       "      <th>8</th>\n",
       "      <td>9</td>\n",
       "      <td>0</td>\n",
       "      <td>we won!!! love the land!!! #allin #cavs #champions #cleveland #clevelandcavaliers  â¦</td>\n",
       "    </tr>\n",
       "    <tr>\n",
       "      <th>9</th>\n",
       "      <td>10</td>\n",
       "      <td>0</td>\n",
       "      <td>@user @user welcome here !  i'm   it's so #gr8 !</td>\n",
       "    </tr>\n",
       "  </tbody>\n",
       "</table>\n",
       "</div>"
      ],
      "text/plain": [
       "   id  label  \\\n",
       "0   1      0   \n",
       "1   2      0   \n",
       "2   3      0   \n",
       "3   4      0   \n",
       "4   5      0   \n",
       "5   6      0   \n",
       "6   7      0   \n",
       "7   8      0   \n",
       "8   9      0   \n",
       "9  10      0   \n",
       "\n",
       "                                                                                                                                             tweet  \n",
       "0                                            @user when a father is dysfunctional and is so selfish he drags his kids into his dysfunction.   #run  \n",
       "1                       @user @user thanks for #lyft credit i can't use cause they don't offer wheelchair vans in pdx.    #disapointed #getthanked  \n",
       "2                                                                                                                              bihday your majesty  \n",
       "3                                                           #model   i love u take with u all the time in urð±!!! ðððð\n",
       "ð¦ð¦ð¦    \n",
       "4                                                                                                           factsguide: society now    #motivation  \n",
       "5                             [2/2] huge fan fare and big talking before they leave. chaos and pay disputes when they get there. #allshowandnogo    \n",
       "6                                                                        @user camping tomorrow @user @user @user @user @user @user @user dannyâ¦  \n",
       "7  the next school year is the year for exams.ð¯ can't think about that ð­ #school #exams   #hate #imagine #actorslife #revolutionschool #girl  \n",
       "8                                                          we won!!! love the land!!! #allin #cavs #champions #cleveland #clevelandcavaliers  â¦   \n",
       "9                                                                                                @user @user welcome here !  i'm   it's so #gr8 !   "
      ]
     },
     "execution_count": 6,
     "metadata": {},
     "output_type": "execute_result"
    }
   ],
   "source": [
    "train[train['label'] == 0].head(10)"
   ]
  },
  {
   "cell_type": "code",
   "execution_count": 7,
   "metadata": {},
   "outputs": [
    {
     "data": {
      "text/html": [
       "<div>\n",
       "<style scoped>\n",
       "    .dataframe tbody tr th:only-of-type {\n",
       "        vertical-align: middle;\n",
       "    }\n",
       "\n",
       "    .dataframe tbody tr th {\n",
       "        vertical-align: top;\n",
       "    }\n",
       "\n",
       "    .dataframe thead th {\n",
       "        text-align: right;\n",
       "    }\n",
       "</style>\n",
       "<table border=\"1\" class=\"dataframe\">\n",
       "  <thead>\n",
       "    <tr style=\"text-align: right;\">\n",
       "      <th></th>\n",
       "      <th>id</th>\n",
       "      <th>label</th>\n",
       "      <th>tweet</th>\n",
       "    </tr>\n",
       "  </thead>\n",
       "  <tbody>\n",
       "    <tr>\n",
       "      <th>13</th>\n",
       "      <td>14</td>\n",
       "      <td>1</td>\n",
       "      <td>@user #cnn calls #michigan middle school 'build the wall' chant '' #tcot</td>\n",
       "    </tr>\n",
       "    <tr>\n",
       "      <th>14</th>\n",
       "      <td>15</td>\n",
       "      <td>1</td>\n",
       "      <td>no comment!  in #australia   #opkillingbay #seashepherd #helpcovedolphins #thecove  #helpcovedolphins</td>\n",
       "    </tr>\n",
       "    <tr>\n",
       "      <th>17</th>\n",
       "      <td>18</td>\n",
       "      <td>1</td>\n",
       "      <td>retweet if you agree!</td>\n",
       "    </tr>\n",
       "    <tr>\n",
       "      <th>23</th>\n",
       "      <td>24</td>\n",
       "      <td>1</td>\n",
       "      <td>@user @user lumpy says i am a . prove it lumpy.</td>\n",
       "    </tr>\n",
       "    <tr>\n",
       "      <th>34</th>\n",
       "      <td>35</td>\n",
       "      <td>1</td>\n",
       "      <td>it's unbelievable that in the 21st century we'd need something like this. again. #neverump  #xenophobia</td>\n",
       "    </tr>\n",
       "    <tr>\n",
       "      <th>56</th>\n",
       "      <td>57</td>\n",
       "      <td>1</td>\n",
       "      <td>@user lets fight against  #love #peace</td>\n",
       "    </tr>\n",
       "    <tr>\n",
       "      <th>68</th>\n",
       "      <td>69</td>\n",
       "      <td>1</td>\n",
       "      <td>ð©the white establishment can't have blk folx running around loving themselves and promoting our greatness</td>\n",
       "    </tr>\n",
       "    <tr>\n",
       "      <th>77</th>\n",
       "      <td>78</td>\n",
       "      <td>1</td>\n",
       "      <td>@user hey, white people: you can call people 'white' by @user  #race  #identity #medâ¦</td>\n",
       "    </tr>\n",
       "    <tr>\n",
       "      <th>82</th>\n",
       "      <td>83</td>\n",
       "      <td>1</td>\n",
       "      <td>how the #altright uses  &amp;amp; insecurity to lure men into #whitesupremacy</td>\n",
       "    </tr>\n",
       "    <tr>\n",
       "      <th>111</th>\n",
       "      <td>112</td>\n",
       "      <td>1</td>\n",
       "      <td>@user i'm not interested in a #linguistics that doesn't address #race &amp;amp; . racism is about #power. #raciolinguistics bringsâ¦</td>\n",
       "    </tr>\n",
       "  </tbody>\n",
       "</table>\n",
       "</div>"
      ],
      "text/plain": [
       "      id  label  \\\n",
       "13    14      1   \n",
       "14    15      1   \n",
       "17    18      1   \n",
       "23    24      1   \n",
       "34    35      1   \n",
       "56    57      1   \n",
       "68    69      1   \n",
       "77    78      1   \n",
       "82    83      1   \n",
       "111  112      1   \n",
       "\n",
       "                                                                                                                                 tweet  \n",
       "13                                                          @user #cnn calls #michigan middle school 'build the wall' chant '' #tcot    \n",
       "14                               no comment!  in #australia   #opkillingbay #seashepherd #helpcovedolphins #thecove  #helpcovedolphins  \n",
       "17                                                                                                              retweet if you agree!   \n",
       "23                                                                                     @user @user lumpy says i am a . prove it lumpy.  \n",
       "34                            it's unbelievable that in the 21st century we'd need something like this. again. #neverump  #xenophobia   \n",
       "56                                                                                             @user lets fight against  #love #peace   \n",
       "68                      ð©the white establishment can't have blk folx running around loving themselves and promoting our greatness    \n",
       "77                                             @user hey, white people: you can call people 'white' by @user  #race  #identity #medâ¦  \n",
       "82                                                       how the #altright uses  &amp; insecurity to lure men into #whitesupremacy      \n",
       "111  @user i'm not interested in a #linguistics that doesn't address #race &amp; . racism is about #power. #raciolinguistics bringsâ¦  "
      ]
     },
     "execution_count": 7,
     "metadata": {},
     "output_type": "execute_result"
    }
   ],
   "source": [
    "train[train['label'] == 1].head(10)"
   ]
  },
  {
   "cell_type": "code",
   "execution_count": 8,
   "metadata": {},
   "outputs": [
    {
     "data": {
      "text/plain": [
       "((31962, 3), (17197, 2))"
      ]
     },
     "execution_count": 8,
     "metadata": {},
     "output_type": "execute_result"
    }
   ],
   "source": [
    "train.shape, test.shape"
   ]
  },
  {
   "cell_type": "code",
   "execution_count": 9,
   "metadata": {},
   "outputs": [
    {
     "data": {
      "text/plain": [
       "0    29720\n",
       "1     2242\n",
       "Name: label, dtype: int64"
      ]
     },
     "execution_count": 9,
     "metadata": {},
     "output_type": "execute_result"
    }
   ],
   "source": [
    "train[\"label\"].value_counts()"
   ]
  },
  {
   "cell_type": "code",
   "execution_count": 10,
   "metadata": {},
   "outputs": [
    {
     "data": {
      "image/png": "[encoded data removed]",
      "text/plain": [
       "<Figure size 640x480 with 1 Axes>"
      ]
     },
     "metadata": {},
     "output_type": "display_data"
    }
   ],
   "source": [
    "plt.hist(train.tweet.str.len(), bins=20, label='train')\n",
    "plt.hist(test.tweet.str.len(), bins=20, label='test')\n",
    "plt.legend()\n",
    "plt.show()"
   ]
  },
  {
   "cell_type": "code",
   "execution_count": 11,
   "metadata": {},
   "outputs": [
    {
     "name": "stderr",
     "output_type": "stream",
     "text": [
      "/tmp/ipykernel_1540936/2276653185.py:1: FutureWarning: The frame.append method is deprecated and will be removed from pandas in a future version. Use pandas.concat instead.\n",
      "  combi = train.append(test, ignore_index=True, sort=True)\n"
     ]
    },
    {
     "data": {
      "text/plain": [
       "(49159, 3)"
      ]
     },
     "execution_count": 11,
     "metadata": {},
     "output_type": "execute_result"
    }
   ],
   "source": [
    "combi = train.append(test, ignore_index=True, sort=True)\n",
    "combi.shape"
   ]
  },
  {
   "cell_type": "code",
   "execution_count": 12,
   "metadata": {},
   "outputs": [],
   "source": [
    "def remove_pattern(input_txt, pattern):\n",
    "    r = re.findall(pattern, input_txt)\n",
    "    for i in r:\n",
    "        input_txt = re.sub(i, '', input_txt)\n",
    "    return input_txt\n"
   ]
  },
  {
   "attachments": {},
   "cell_type": "markdown",
   "metadata": {},
   "source": [
    "Tweet Specific Cleaning"
   ]
  },
  {
   "cell_type": "code",
   "execution_count": 13,
   "metadata": {},
   "outputs": [
    {
     "name": "stderr",
     "output_type": "stream",
     "text": [
      "/tmp/ipykernel_1540936/2607419696.py:2: FutureWarning: The default value of regex will change from True to False in a future version.\n",
      "  combi.tidy_tweet = combi.tidy_tweet.str.replace(\"[^a-zA-Z#]\", \" \")\n"
     ]
    }
   ],
   "source": [
    "\n",
    "\n",
    "combi['tidy_tweet'] = np.vectorize(remove_pattern)(combi['tweet'], \"@[\\w]*\") \n",
    "combi.tidy_tweet = combi.tidy_tweet.str.replace(\"[^a-zA-Z#]\", \" \")\n",
    "combi.tidy_tweet = combi.tidy_tweet.apply(lambda x: ' '.join([w for w in x.split() if len(w) > 3]))\n",
    "tokenized_tweet = combi.tidy_tweet.apply(lambda x: x.split())"
   ]
  },
  {
   "cell_type": "code",
   "execution_count": 14,
   "metadata": {},
   "outputs": [
    {
     "data": {
      "text/plain": [
       "0                   [when, father, dysfunct, selfish, drag, kid, into, dysfunct, #run]\n",
       "1    [thank, #lyft, credit, caus, they, offer, wheelchair, van, #disapoint, #getthank]\n",
       "2                                                              [bihday, your, majesti]\n",
       "3                                                     [#model, love, take, with, time]\n",
       "4                                                         [factsguid, societi, #motiv]\n",
       "Name: tidy_tweet, dtype: object"
      ]
     },
     "execution_count": 14,
     "metadata": {},
     "output_type": "execute_result"
    }
   ],
   "source": [
    "from nltk.stem.porter import * \n",
    "stemmer = PorterStemmer() \n",
    "tokenized_tweet = tokenized_tweet.apply(lambda x: [stemmer.stem(i) for i in x]) # stemming\n",
    "tokenized_tweet.head()"
   ]
  },
  {
   "cell_type": "code",
   "execution_count": 15,
   "metadata": {},
   "outputs": [],
   "source": [
    "for i in range(len(tokenized_tweet)):\n",
    "    tokenized_tweet[i] = ' '.join(tokenized_tweet[i])    \n",
    "combi['tidy_tweet'] = tokenized_tweet"
   ]
  },
  {
   "cell_type": "code",
   "execution_count": 33,
   "metadata": {},
   "outputs": [
    {
     "data": {
      "text/plain": [
       "(49159, 1000)"
      ]
     },
     "execution_count": 33,
     "metadata": {},
     "output_type": "execute_result"
    }
   ],
   "source": [
    "from sklearn.feature_extraction.text import TfidfVectorizer, CountVectorizer \n",
    "import gensim\n",
    "bow_vectorizer = CountVectorizer(max_df=0.90, min_df=2, max_features=1000, stop_words='english')\n",
    "bow = bow_vectorizer.fit_transform(combi['tidy_tweet'])\n",
    "bow.shape"
   ]
  },
  {
   "cell_type": "code",
   "execution_count": 34,
   "metadata": {},
   "outputs": [
    {
     "data": {
      "text/plain": [
       "0.5303408146300915"
      ]
     },
     "execution_count": 34,
     "metadata": {},
     "output_type": "execute_result"
    }
   ],
   "source": [
    "# Extracting train and test BoW features \n",
    "train_bow = bow[:31962,:] \n",
    "test_bow = bow[31962:,:] \n",
    "\n",
    "# splitting data into training and validation set \n",
    "xtrain_bow, xvalid_bow, ytrain, yvalid = train_test_split(train_bow, train['label'], random_state=42, test_size=0.3)\n",
    "\n",
    "lreg = LogisticRegression(solver='lbfgs') \n",
    "\n",
    "# training the model \n",
    "lreg.fit(xtrain_bow, ytrain) \n",
    "prediction = lreg.predict_proba(xvalid_bow) # predicting on the validation set \n",
    "prediction_int = prediction[:,1] >= 0.3 # if prediction is greater than or equal to 0.3 than 1 else 0 \n",
    "prediction_int = prediction_int.astype(np.int) \n",
    "f1_score(yvalid, prediction_int) # calculating f1 score for the validation set"
   ]
  },
  {
   "cell_type": "code",
   "execution_count": 18,
   "metadata": {},
   "outputs": [
    {
     "data": {
      "text/plain": [
       "(6510731, 7536020)"
      ]
     },
     "execution_count": 18,
     "metadata": {},
     "output_type": "execute_result"
    }
   ],
   "source": [
    "import gensim\n",
    "tokenized_tweet = combi['tidy_tweet'].apply(lambda x: x.split()) # tokenizing \n",
    "\n",
    "model_w2v = gensim.models.Word2Vec(\n",
    "            tokenized_tweet,\n",
    "            size=200, # desired no. of features/independent variables\n",
    "            window=5, # context window size\n",
    "            min_count=2, # Ignores all words with total frequency lower than 2.                                  \n",
    "            sg = 1, # 1 for skip-gram model\n",
    "            hs = 0,\n",
    "            negative = 10, # for negative sampling\n",
    "            workers= 32, # no.of cores\n",
    "            seed = 34\n",
    ") \n",
    "\n",
    "model_w2v.train(tokenized_tweet, total_examples= len(combi['tidy_tweet']), epochs=20)"
   ]
  },
  {
   "cell_type": "code",
   "execution_count": 19,
   "metadata": {},
   "outputs": [
    {
     "data": {
      "text/plain": [
       "[('spaghetti', 0.5500274300575256),\n",
       " ('#foodcoma', 0.5450606346130371),\n",
       " ('#avocado', 0.5441926717758179),\n",
       " ('#cellar', 0.5407294631004333),\n",
       " ('reggio', 0.5306890606880188),\n",
       " ('cookout', 0.5282652378082275),\n",
       " ('#biall', 0.5279924273490906),\n",
       " ('spinach', 0.5272848606109619),\n",
       " ('alfredo', 0.526782214641571),\n",
       " ('noodl', 0.5262755751609802)]"
      ]
     },
     "execution_count": 19,
     "metadata": {},
     "output_type": "execute_result"
    }
   ],
   "source": [
    "model_w2v.wv.most_similar(positive=\"dinner\")"
   ]
  },
  {
   "cell_type": "code",
   "execution_count": 20,
   "metadata": {},
   "outputs": [],
   "source": [
    "def word_vector(tokens, size):\n",
    "    vec = np.zeros(size).reshape((1, size))\n",
    "    count = 0\n",
    "    for word in tokens:\n",
    "        try:\n",
    "            vec += model_w2v[word].reshape((1, size))\n",
    "            count += 1.\n",
    "        except KeyError:  # handling the case where the token is not in vocabulary\n",
    "            continue\n",
    "    if count != 0:\n",
    "        vec /= count\n",
    "    return vec"
   ]
  },
  {
   "cell_type": "code",
   "execution_count": 21,
   "metadata": {},
   "outputs": [
    {
     "data": {
      "text/plain": [
       "(49159, 200)"
      ]
     },
     "execution_count": 21,
     "metadata": {},
     "output_type": "execute_result"
    }
   ],
   "source": [
    "wordvec_arrays = np.zeros((len(tokenized_tweet), 200)) \n",
    "for i in range(len(tokenized_tweet)):\n",
    "    wordvec_arrays[i,:] = word_vector(tokenized_tweet[i], 200)\n",
    "wordvec_df = pd.DataFrame(wordvec_arrays)\n",
    "wordvec_df.shape"
   ]
  },
  {
   "attachments": {},
   "cell_type": "markdown",
   "metadata": {},
   "source": [
    "Log Regression"
   ]
  },
  {
   "cell_type": "code",
   "execution_count": 23,
   "metadata": {},
   "outputs": [],
   "source": [
    "from sklearn.linear_model import LogisticRegression\n",
    "from sklearn.model_selection import train_test_split\n",
    "from sklearn.metrics import f1_score\n"
   ]
  },
  {
   "cell_type": "code",
   "execution_count": 25,
   "metadata": {},
   "outputs": [
    {
     "data": {
      "text/plain": [
       "0.6272793581327498"
      ]
     },
     "execution_count": 25,
     "metadata": {},
     "output_type": "execute_result"
    }
   ],
   "source": [
    "train_w2v = wordvec_df.iloc[:31962,:]\n",
    "test_w2v = wordvec_df.iloc[31962:,:]\n",
    "xtrain_bow, xvalid_bow, ytrain, yvalid = train_test_split(train_w2v, train['label'], random_state=42, test_size=0.3)\n",
    "\n",
    "xtrain_w2v = train_w2v.iloc[ytrain.index,:]\n",
    "xvalid_w2v = train_w2v.iloc[yvalid.index,:]\n",
    "lreg = LogisticRegression(solver='lbfgs') \n",
    "lreg.fit(xtrain_w2v, ytrain) \n",
    "\n",
    "prediction = lreg.predict_proba(xvalid_w2v)\n",
    "\n",
    "prediction_int = prediction[:,1] >= 0.3\n",
    "prediction_int = prediction_int.astype(np.int)\n",
    "\n",
    "f1_score(yvalid, prediction_int)"
   ]
  },
  {
   "cell_type": "code",
   "execution_count": 29,
   "metadata": {},
   "outputs": [
    {
     "data": {
      "text/html": [
       "<div>\n",
       "<style scoped>\n",
       "    .dataframe tbody tr th:only-of-type {\n",
       "        vertical-align: middle;\n",
       "    }\n",
       "\n",
       "    .dataframe tbody tr th {\n",
       "        vertical-align: top;\n",
       "    }\n",
       "\n",
       "    .dataframe thead th {\n",
       "        text-align: right;\n",
       "    }\n",
       "</style>\n",
       "<table border=\"1\" class=\"dataframe\">\n",
       "  <thead>\n",
       "    <tr style=\"text-align: right;\">\n",
       "      <th></th>\n",
       "      <th>0</th>\n",
       "      <th>1</th>\n",
       "      <th>2</th>\n",
       "      <th>3</th>\n",
       "      <th>4</th>\n",
       "      <th>5</th>\n",
       "      <th>6</th>\n",
       "      <th>7</th>\n",
       "      <th>8</th>\n",
       "      <th>9</th>\n",
       "      <th>...</th>\n",
       "      <th>190</th>\n",
       "      <th>191</th>\n",
       "      <th>192</th>\n",
       "      <th>193</th>\n",
       "      <th>194</th>\n",
       "      <th>195</th>\n",
       "      <th>196</th>\n",
       "      <th>197</th>\n",
       "      <th>198</th>\n",
       "      <th>199</th>\n",
       "    </tr>\n",
       "  </thead>\n",
       "  <tbody>\n",
       "    <tr>\n",
       "      <th>31962</th>\n",
       "      <td>0.179672</td>\n",
       "      <td>-0.187208</td>\n",
       "      <td>-0.066549</td>\n",
       "      <td>-0.000242</td>\n",
       "      <td>0.046900</td>\n",
       "      <td>-0.168585</td>\n",
       "      <td>0.107313</td>\n",
       "      <td>-0.398923</td>\n",
       "      <td>-0.004514</td>\n",
       "      <td>0.449174</td>\n",
       "      <td>...</td>\n",
       "      <td>-0.103199</td>\n",
       "      <td>0.187785</td>\n",
       "      <td>0.257544</td>\n",
       "      <td>0.188475</td>\n",
       "      <td>-0.307286</td>\n",
       "      <td>-0.209163</td>\n",
       "      <td>-0.120206</td>\n",
       "      <td>0.215510</td>\n",
       "      <td>0.000477</td>\n",
       "      <td>0.310378</td>\n",
       "    </tr>\n",
       "    <tr>\n",
       "      <th>31963</th>\n",
       "      <td>-0.150212</td>\n",
       "      <td>-0.076864</td>\n",
       "      <td>0.291058</td>\n",
       "      <td>0.107394</td>\n",
       "      <td>-0.031307</td>\n",
       "      <td>0.054426</td>\n",
       "      <td>0.048535</td>\n",
       "      <td>-0.088110</td>\n",
       "      <td>-0.148706</td>\n",
       "      <td>0.319648</td>\n",
       "      <td>...</td>\n",
       "      <td>-0.037505</td>\n",
       "      <td>0.288227</td>\n",
       "      <td>0.449524</td>\n",
       "      <td>0.131449</td>\n",
       "      <td>0.131855</td>\n",
       "      <td>-0.234407</td>\n",
       "      <td>0.154804</td>\n",
       "      <td>0.231847</td>\n",
       "      <td>-0.197378</td>\n",
       "      <td>-0.021180</td>\n",
       "    </tr>\n",
       "    <tr>\n",
       "      <th>31964</th>\n",
       "      <td>0.256323</td>\n",
       "      <td>-0.685308</td>\n",
       "      <td>0.037841</td>\n",
       "      <td>0.156358</td>\n",
       "      <td>0.175741</td>\n",
       "      <td>-0.455709</td>\n",
       "      <td>0.204166</td>\n",
       "      <td>-0.071353</td>\n",
       "      <td>-0.166744</td>\n",
       "      <td>0.358992</td>\n",
       "      <td>...</td>\n",
       "      <td>-0.097271</td>\n",
       "      <td>0.117643</td>\n",
       "      <td>0.481305</td>\n",
       "      <td>0.131040</td>\n",
       "      <td>-0.609189</td>\n",
       "      <td>-0.103460</td>\n",
       "      <td>-0.414897</td>\n",
       "      <td>0.257788</td>\n",
       "      <td>-0.005154</td>\n",
       "      <td>0.115262</td>\n",
       "    </tr>\n",
       "    <tr>\n",
       "      <th>31965</th>\n",
       "      <td>-0.156354</td>\n",
       "      <td>-0.084167</td>\n",
       "      <td>-0.045204</td>\n",
       "      <td>0.261206</td>\n",
       "      <td>-0.351160</td>\n",
       "      <td>0.024167</td>\n",
       "      <td>0.094944</td>\n",
       "      <td>0.015713</td>\n",
       "      <td>-0.018836</td>\n",
       "      <td>0.192259</td>\n",
       "      <td>...</td>\n",
       "      <td>-0.115195</td>\n",
       "      <td>-0.040670</td>\n",
       "      <td>0.123306</td>\n",
       "      <td>-0.118127</td>\n",
       "      <td>-0.124392</td>\n",
       "      <td>-0.273800</td>\n",
       "      <td>-0.085134</td>\n",
       "      <td>-0.077520</td>\n",
       "      <td>-0.039422</td>\n",
       "      <td>0.122772</td>\n",
       "    </tr>\n",
       "    <tr>\n",
       "      <th>31966</th>\n",
       "      <td>-0.201948</td>\n",
       "      <td>-0.377420</td>\n",
       "      <td>0.078496</td>\n",
       "      <td>0.255450</td>\n",
       "      <td>0.106117</td>\n",
       "      <td>-0.294889</td>\n",
       "      <td>0.178293</td>\n",
       "      <td>0.137301</td>\n",
       "      <td>-0.320276</td>\n",
       "      <td>0.088791</td>\n",
       "      <td>...</td>\n",
       "      <td>-0.163226</td>\n",
       "      <td>0.159545</td>\n",
       "      <td>0.288092</td>\n",
       "      <td>0.003622</td>\n",
       "      <td>-0.047590</td>\n",
       "      <td>-0.151903</td>\n",
       "      <td>-0.133241</td>\n",
       "      <td>0.142705</td>\n",
       "      <td>0.188242</td>\n",
       "      <td>0.163408</td>\n",
       "    </tr>\n",
       "    <tr>\n",
       "      <th>...</th>\n",
       "      <td>...</td>\n",
       "      <td>...</td>\n",
       "      <td>...</td>\n",
       "      <td>...</td>\n",
       "      <td>...</td>\n",
       "      <td>...</td>\n",
       "      <td>...</td>\n",
       "      <td>...</td>\n",
       "      <td>...</td>\n",
       "      <td>...</td>\n",
       "      <td>...</td>\n",
       "      <td>...</td>\n",
       "      <td>...</td>\n",
       "      <td>...</td>\n",
       "      <td>...</td>\n",
       "      <td>...</td>\n",
       "      <td>...</td>\n",
       "      <td>...</td>\n",
       "      <td>...</td>\n",
       "      <td>...</td>\n",
       "      <td>...</td>\n",
       "    </tr>\n",
       "    <tr>\n",
       "      <th>49154</th>\n",
       "      <td>0.426450</td>\n",
       "      <td>-0.303092</td>\n",
       "      <td>-0.130385</td>\n",
       "      <td>-0.091316</td>\n",
       "      <td>-0.287552</td>\n",
       "      <td>-0.445654</td>\n",
       "      <td>0.143336</td>\n",
       "      <td>-0.350281</td>\n",
       "      <td>-0.101861</td>\n",
       "      <td>0.073121</td>\n",
       "      <td>...</td>\n",
       "      <td>-0.370203</td>\n",
       "      <td>0.027233</td>\n",
       "      <td>0.591174</td>\n",
       "      <td>0.196856</td>\n",
       "      <td>-0.128439</td>\n",
       "      <td>-0.263338</td>\n",
       "      <td>0.012271</td>\n",
       "      <td>-0.019405</td>\n",
       "      <td>0.179523</td>\n",
       "      <td>0.157480</td>\n",
       "    </tr>\n",
       "    <tr>\n",
       "      <th>49155</th>\n",
       "      <td>-0.066160</td>\n",
       "      <td>-0.146003</td>\n",
       "      <td>0.021755</td>\n",
       "      <td>-0.027590</td>\n",
       "      <td>-0.066405</td>\n",
       "      <td>-0.083718</td>\n",
       "      <td>0.006630</td>\n",
       "      <td>-0.148369</td>\n",
       "      <td>-0.152469</td>\n",
       "      <td>0.219024</td>\n",
       "      <td>...</td>\n",
       "      <td>0.015671</td>\n",
       "      <td>0.042999</td>\n",
       "      <td>0.110882</td>\n",
       "      <td>0.134621</td>\n",
       "      <td>-0.047660</td>\n",
       "      <td>-0.146282</td>\n",
       "      <td>0.013817</td>\n",
       "      <td>0.366585</td>\n",
       "      <td>-0.161911</td>\n",
       "      <td>0.169529</td>\n",
       "    </tr>\n",
       "    <tr>\n",
       "      <th>49156</th>\n",
       "      <td>-0.014664</td>\n",
       "      <td>-0.359236</td>\n",
       "      <td>0.207952</td>\n",
       "      <td>0.161144</td>\n",
       "      <td>0.057906</td>\n",
       "      <td>-0.243625</td>\n",
       "      <td>0.132200</td>\n",
       "      <td>-0.016686</td>\n",
       "      <td>-0.042993</td>\n",
       "      <td>-0.047490</td>\n",
       "      <td>...</td>\n",
       "      <td>-0.264327</td>\n",
       "      <td>0.083821</td>\n",
       "      <td>0.107700</td>\n",
       "      <td>0.065275</td>\n",
       "      <td>-0.230917</td>\n",
       "      <td>-0.069272</td>\n",
       "      <td>-0.177468</td>\n",
       "      <td>0.013672</td>\n",
       "      <td>-0.142921</td>\n",
       "      <td>0.038789</td>\n",
       "    </tr>\n",
       "    <tr>\n",
       "      <th>49157</th>\n",
       "      <td>-0.079377</td>\n",
       "      <td>-0.294929</td>\n",
       "      <td>-0.226446</td>\n",
       "      <td>0.120460</td>\n",
       "      <td>-0.484782</td>\n",
       "      <td>-0.436563</td>\n",
       "      <td>0.351299</td>\n",
       "      <td>-0.323529</td>\n",
       "      <td>0.008292</td>\n",
       "      <td>0.510716</td>\n",
       "      <td>...</td>\n",
       "      <td>-0.257282</td>\n",
       "      <td>0.044352</td>\n",
       "      <td>0.560298</td>\n",
       "      <td>0.096884</td>\n",
       "      <td>-0.465877</td>\n",
       "      <td>-0.180334</td>\n",
       "      <td>-0.128337</td>\n",
       "      <td>-0.065687</td>\n",
       "      <td>0.191225</td>\n",
       "      <td>0.469466</td>\n",
       "    </tr>\n",
       "    <tr>\n",
       "      <th>49158</th>\n",
       "      <td>0.161713</td>\n",
       "      <td>-0.265403</td>\n",
       "      <td>0.158968</td>\n",
       "      <td>0.090191</td>\n",
       "      <td>-0.260364</td>\n",
       "      <td>0.093527</td>\n",
       "      <td>0.094490</td>\n",
       "      <td>0.107926</td>\n",
       "      <td>-0.284393</td>\n",
       "      <td>0.541917</td>\n",
       "      <td>...</td>\n",
       "      <td>-0.179220</td>\n",
       "      <td>0.004961</td>\n",
       "      <td>0.246798</td>\n",
       "      <td>0.374894</td>\n",
       "      <td>0.139742</td>\n",
       "      <td>-0.044429</td>\n",
       "      <td>-0.102418</td>\n",
       "      <td>0.045980</td>\n",
       "      <td>0.048477</td>\n",
       "      <td>-0.133047</td>\n",
       "    </tr>\n",
       "  </tbody>\n",
       "</table>\n",
       "<p>17197 rows × 200 columns</p>\n",
       "</div>"
      ],
      "text/plain": [
       "            0         1         2         3         4         5         6    \\\n",
       "31962  0.179672 -0.187208 -0.066549 -0.000242  0.046900 -0.168585  0.107313   \n",
       "31963 -0.150212 -0.076864  0.291058  0.107394 -0.031307  0.054426  0.048535   \n",
       "31964  0.256323 -0.685308  0.037841  0.156358  0.175741 -0.455709  0.204166   \n",
       "31965 -0.156354 -0.084167 -0.045204  0.261206 -0.351160  0.024167  0.094944   \n",
       "31966 -0.201948 -0.377420  0.078496  0.255450  0.106117 -0.294889  0.178293   \n",
       "...         ...       ...       ...       ...       ...       ...       ...   \n",
       "49154  0.426450 -0.303092 -0.130385 -0.091316 -0.287552 -0.445654  0.143336   \n",
       "49155 -0.066160 -0.146003  0.021755 -0.027590 -0.066405 -0.083718  0.006630   \n",
       "49156 -0.014664 -0.359236  0.207952  0.161144  0.057906 -0.243625  0.132200   \n",
       "49157 -0.079377 -0.294929 -0.226446  0.120460 -0.484782 -0.436563  0.351299   \n",
       "49158  0.161713 -0.265403  0.158968  0.090191 -0.260364  0.093527  0.094490   \n",
       "\n",
       "            7         8         9    ...       190       191       192  \\\n",
       "31962 -0.398923 -0.004514  0.449174  ... -0.103199  0.187785  0.257544   \n",
       "31963 -0.088110 -0.148706  0.319648  ... -0.037505  0.288227  0.449524   \n",
       "31964 -0.071353 -0.166744  0.358992  ... -0.097271  0.117643  0.481305   \n",
       "31965  0.015713 -0.018836  0.192259  ... -0.115195 -0.040670  0.123306   \n",
       "31966  0.137301 -0.320276  0.088791  ... -0.163226  0.159545  0.288092   \n",
       "...         ...       ...       ...  ...       ...       ...       ...   \n",
       "49154 -0.350281 -0.101861  0.073121  ... -0.370203  0.027233  0.591174   \n",
       "49155 -0.148369 -0.152469  0.219024  ...  0.015671  0.042999  0.110882   \n",
       "49156 -0.016686 -0.042993 -0.047490  ... -0.264327  0.083821  0.107700   \n",
       "49157 -0.323529  0.008292  0.510716  ... -0.257282  0.044352  0.560298   \n",
       "49158  0.107926 -0.284393  0.541917  ... -0.179220  0.004961  0.246798   \n",
       "\n",
       "            193       194       195       196       197       198       199  \n",
       "31962  0.188475 -0.307286 -0.209163 -0.120206  0.215510  0.000477  0.310378  \n",
       "31963  0.131449  0.131855 -0.234407  0.154804  0.231847 -0.197378 -0.021180  \n",
       "31964  0.131040 -0.609189 -0.103460 -0.414897  0.257788 -0.005154  0.115262  \n",
       "31965 -0.118127 -0.124392 -0.273800 -0.085134 -0.077520 -0.039422  0.122772  \n",
       "31966  0.003622 -0.047590 -0.151903 -0.133241  0.142705  0.188242  0.163408  \n",
       "...         ...       ...       ...       ...       ...       ...       ...  \n",
       "49154  0.196856 -0.128439 -0.263338  0.012271 -0.019405  0.179523  0.157480  \n",
       "49155  0.134621 -0.047660 -0.146282  0.013817  0.366585 -0.161911  0.169529  \n",
       "49156  0.065275 -0.230917 -0.069272 -0.177468  0.013672 -0.142921  0.038789  \n",
       "49157  0.096884 -0.465877 -0.180334 -0.128337 -0.065687  0.191225  0.469466  \n",
       "49158  0.374894  0.139742 -0.044429 -0.102418  0.045980  0.048477 -0.133047  \n",
       "\n",
       "[17197 rows x 200 columns]"
      ]
     },
     "execution_count": 29,
     "metadata": {},
     "output_type": "execute_result"
    }
   ],
   "source": [
    "test_w2v"
   ]
  },
  {
   "cell_type": "code",
   "execution_count": 32,
   "metadata": {},
   "outputs": [
    {
     "data": {
      "text/plain": [
       "array([False, False, False, ...,  True, False, False])"
      ]
     },
     "execution_count": 32,
     "metadata": {},
     "output_type": "execute_result"
    }
   ],
   "source": [
    "lreg.predict_proba(test_w2v)[:,1] >= 0.3"
   ]
  }
 ],
 "metadata": {
  "kernelspec": {
   "display_name": "qualcomm",
   "language": "python",
   "name": "python3"
  },
  "language_info": {
   "codemirror_mode": {
    "name": "ipython",
    "version": 3
   },
   "file_extension": ".py",
   "mimetype": "text/x-python",
   "name": "python",
   "nbconvert_exporter": "python",
   "pygments_lexer": "ipython3",
   "version": "3.8.12"
  },
  "orig_nbformat": 4
 },
 "nbformat": 4,
 "nbformat_minor": 2
}
